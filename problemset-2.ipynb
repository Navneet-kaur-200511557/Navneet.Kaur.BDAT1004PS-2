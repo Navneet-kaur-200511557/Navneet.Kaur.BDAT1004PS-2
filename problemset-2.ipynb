{
 "cells": [
  {
   "cell_type": "markdown",
   "id": "b0aedd5f",
   "metadata": {},
   "source": [
    "# Problem Set - 2\n",
    "> Navneet kaur\n",
    "> 200511557"
   ]
  },
  {
   "cell_type": "markdown",
   "id": "6fc47a7b",
   "metadata": {},
   "source": [
    "# Question - 1"
   ]
  },
  {
   "cell_type": "code",
   "execution_count": 38,
   "id": "af7aba19",
   "metadata": {},
   "outputs": [
    {
     "data": {
      "text/plain": [
       "6"
      ]
     },
     "execution_count": 38,
     "metadata": {},
     "output_type": "execute_result"
    }
   ],
   "source": [
    "#Answer:1\n",
    "a = 0\n",
    "def b():\n",
    "    global a\n",
    "    a = c(a)\n",
    "def c(a):\n",
    "    return a + 2\n",
    "b()\n",
    "b()\n",
    "b()\n",
    "a"
   ]
  },
  {
   "cell_type": "markdown",
   "id": "ef4f6e00",
   "metadata": {},
   "source": [
    "## Explanation:\n",
    "\n",
    "So here we can see that global variable a has initial value of 0.<br>\n",
    "<b>Step:1</b><br>\n",
    "When we call function b() for first time it will initialize function c with 'a' value = 0 and at the end of that function 'a' has updated value of 2 so a = 2 (0+2).<br>\n",
    "<b>Step:2</b><br>\n",
    "When we call function b() for second time it will initialize function c with 'a' value = 2 and at the end of that function 'a' has updated value of 4 so a = 4 (2+2).<br>\n",
    "<b>Step:3</b><br>\n",
    "When we call function b() for third time it will initialize function c with 'a' value = 4 and at the end of that function 'a' has updated value of 6 so a = 6 (4+2).<br><br>\n",
    "<b><i>So when we print global variable 'a' it has 6 as a value.</i></b>"
   ]
  },
  {
   "cell_type": "markdown",
   "id": "c9b2d592",
   "metadata": {},
   "source": [
    "# Question - 2 "
   ]
  },
  {
   "cell_type": "code",
   "execution_count": 39,
   "id": "35b5bd91",
   "metadata": {},
   "outputs": [],
   "source": [
    "#Answer:2\n",
    "def fileLength(fileName):\n",
    "    try:    \n",
    "        fileLen = -1\n",
    "        f = open (fileName)\n",
    "        f = f.read();\n",
    "        fileLen = len(f)\n",
    "        print(fileLen)\n",
    "    except (FileNotFoundError):\n",
    "        print(\"File \"+fileName+ \" not found\")\n",
    "    except:\n",
    "        print(\"Something Wrong!!\")"
   ]
  },
  {
   "cell_type": "code",
   "execution_count": 14,
   "id": "8cc4cda4",
   "metadata": {},
   "outputs": [
    {
     "name": "stdout",
     "output_type": "stream",
     "text": [
      "Please Enter File Name to Get the Length: w3c.txt\n",
      "File w3c.txt not found\n",
      "\n",
      "\n",
      "Please Enter File Name to Get the Lengthw3c.html\n",
      "396\n"
     ]
    }
   ],
   "source": [
    "fileName = input(\"Please Enter File Name to Get the Length: \")\n",
    "fileLength(fileName)\n",
    "fileName = input(\"\\n\\nPlease Enter File Name to Get the Length\")\n",
    "fileLength(fileName)"
   ]
  },
  {
   "cell_type": "markdown",
   "id": "f8a1247b",
   "metadata": {},
   "source": [
    "# Question - 3"
   ]
  },
  {
   "cell_type": "code",
   "execution_count": 40,
   "id": "652a1e5f",
   "metadata": {},
   "outputs": [],
   "source": [
    "#Answer:3\n",
    "class Marsupial:\n",
    "    def __init__(self):\n",
    "        self.marsuLst = []\n",
    "    \n",
    "    def put_in_pouch(self,pouch):\n",
    "        self.marsuLst.append(pouch)\n",
    "        \n",
    "    def pouch_contents(self):\n",
    "        return self.marsuLst\n",
    "\n",
    "class Kangaroo(Marsupial):\n",
    "    def __init__(self, dx, dy):\n",
    "        self.x = dx\n",
    "        self.y = dy\n",
    "        \n",
    "    def jump(self,dx,dy):\n",
    "        self.x +=dx\n",
    "        self.y +=dy\n",
    "        \n",
    "    def __str__(self):\n",
    "        return \"I am a Kangaroo located at coordinates ({0},{1})\".format(self.x,self.y)"
   ]
  },
  {
   "cell_type": "code",
   "execution_count": 41,
   "id": "2fab0d25",
   "metadata": {},
   "outputs": [
    {
     "data": {
      "text/plain": [
       "['doll', 'firetruck', 'kitten']"
      ]
     },
     "execution_count": 41,
     "metadata": {},
     "output_type": "execute_result"
    }
   ],
   "source": [
    "m = Marsupial()\n",
    "m.put_in_pouch('doll')\n",
    "m.put_in_pouch('firetruck')\n",
    "m.put_in_pouch('kitten')\n",
    "m.pouch_contents()"
   ]
  },
  {
   "cell_type": "code",
   "execution_count": 42,
   "id": "2aa914b8",
   "metadata": {},
   "outputs": [
    {
     "name": "stdout",
     "output_type": "stream",
     "text": [
      "I am a Kangaroo located at coordinates (3,0)\n"
     ]
    }
   ],
   "source": [
    "k = Kangaroo(0,0)\n",
    "k.jump(1,0)\n",
    "k.jump(1,0)\n",
    "k.jump(1,0)\n",
    "print(k)"
   ]
  },
  {
   "cell_type": "markdown",
   "id": "9b3acf15",
   "metadata": {},
   "source": [
    "# Question - 4"
   ]
  },
  {
   "cell_type": "code",
   "execution_count": 43,
   "id": "2681a0f0",
   "metadata": {},
   "outputs": [],
   "source": [
    "#Answer:4\n",
    "def collatz(num):\n",
    "    if(num==1):\n",
    "        print(num)\n",
    "    else:\n",
    "        \n",
    "        if(num % 2==0):\n",
    "            print(num)\n",
    "            num = num//2\n",
    "        else:\n",
    "            print(num)\n",
    "            num = (3*num)+1\n",
    "        collatz(num)"
   ]
  },
  {
   "cell_type": "code",
   "execution_count": 44,
   "id": "c58b2af5",
   "metadata": {},
   "outputs": [
    {
     "name": "stdout",
     "output_type": "stream",
     "text": [
      "Enter any Positive value :10\n",
      "10\n",
      "5\n",
      "16\n",
      "8\n",
      "4\n",
      "2\n",
      "1\n"
     ]
    }
   ],
   "source": [
    "digit = int(input(\"Enter any Positive value :\"))\n",
    "if(digit >0):\n",
    "    collatz(digit)\n",
    "else:\n",
    "    print(\"Value is Not Acceptable!!! Try again!!\")"
   ]
  },
  {
   "cell_type": "markdown",
   "id": "ae5793e8",
   "metadata": {},
   "source": [
    "# Question - 5"
   ]
  },
  {
   "cell_type": "code",
   "execution_count": 45,
   "id": "fe408bf3",
   "metadata": {},
   "outputs": [],
   "source": [
    "#Answer:5\n",
    "def binary(decimalNum):\n",
    "    if decimalNum > 1:\n",
    "        binary(decimalNum//2)\n",
    "        \n",
    "    reminder = decimalNum % 2 \n",
    "    print(reminder,end = '')\n"
   ]
  },
  {
   "cell_type": "code",
   "execution_count": 46,
   "id": "fa2a7518",
   "metadata": {},
   "outputs": [
    {
     "name": "stdout",
     "output_type": "stream",
     "text": [
      "Enter Any Positive Decimal Number to Get the Binary Value:0\n",
      "0\n",
      "Enter Any Positive Decimal Number to Get the Binary Value:1\n",
      "1\n",
      "Enter Any Positive Decimal Number to Get the Binary Value:3\n",
      "11\n",
      "Enter Any Positive Decimal Number to Get the Binary Value:9\n",
      "1001"
     ]
    }
   ],
   "source": [
    "inputNumber = int(input(\"Enter Any Positive Decimal Number to Get the Binary Value:\"))\n",
    "binary(inputNumber)\n",
    "inputNumber = int(input(\"\\nEnter Any Positive Decimal Number to Get the Binary Value:\"))\n",
    "binary(inputNumber)\n",
    "inputNumber = int(input(\"\\nEnter Any Positive Decimal Number to Get the Binary Value:\"))\n",
    "binary(inputNumber)\n",
    "inputNumber = int(input(\"\\nEnter Any Positive Decimal Number to Get the Binary Value:\"))\n",
    "binary(inputNumber)"
   ]
  },
  {
   "cell_type": "markdown",
   "id": "f51c8c53",
   "metadata": {},
   "source": [
    "# Question - 6"
   ]
  },
  {
   "cell_type": "code",
   "execution_count": 48,
   "id": "d54865c4",
   "metadata": {},
   "outputs": [
    {
     "name": "stdout",
     "output_type": "stream",
     "text": [
      "['W3C Mission', 'Principles']\n"
     ]
    }
   ],
   "source": [
    "#Answe:6\n",
    "from html.parser import HTMLParser\n",
    "\n",
    "inputfile = open(\"w3c.html\", \"r\")\n",
    "content = inputfile.read()\n",
    "inputfile.close()\n",
    "\n",
    "class headingParser(HTMLParser):\n",
    "\n",
    "    def __init__(self):\n",
    "        super().__init__()\n",
    "        self.data = []\n",
    "        self.capture = False\n",
    "\n",
    "    def handle_starttag(self, tag, attrs):\n",
    "        if tag in ('p', 'h1'):\n",
    "            self.capture = True\n",
    "        elif tag in ('p', 'h2'):\n",
    "            self.capture = True\n",
    "        \n",
    "    def handle_endtag(self, tag):\n",
    "        if tag in ('p', 'h1'):\n",
    "            self.capture = False\n",
    "        elif tag in ('p', 'h2'):\n",
    "            self.capture = False\n",
    "\n",
    "    def handle_data(self, data):\n",
    "        if self.capture:\n",
    "            self.data.append(data)\n",
    "\n",
    "parser = headingParser()\n",
    "parser.feed(content)\n",
    "\n",
    "print(parser.data)"
   ]
  },
  {
   "cell_type": "markdown",
   "id": "15fe727d",
   "metadata": {},
   "source": [
    "# Question - 7"
   ]
  },
  {
   "cell_type": "code",
   "execution_count": 49,
   "id": "46bc8711",
   "metadata": {},
   "outputs": [],
   "source": [
    "#Answer:7\n",
    "from urllib.parse import urljoin\n",
    "from html.parser import HTMLParser\n",
    "from urllib.request import urlopen\n",
    "class Collector(HTMLParser):\n",
    "    'collects hyperlink URLs into a list'\n",
    "\n",
    "    def __init__(self, url):\n",
    "        'initializes parser, the url, and a list'\n",
    "        HTMLParser.__init__(self)\n",
    "        self.url = url\n",
    "        self.links = []\n",
    "\n",
    "    \n",
    "    def handle_starttag(self, tag, attrs):\n",
    "        'collects hyperlink URLs in their absolute format'\n",
    "        if tag == 'a':\n",
    "            for attr in attrs:\n",
    "                if attr[0] == 'href':\n",
    "                    # construct absolute URL\n",
    "                    absolute = urljoin(self.url, attr[1])\n",
    "                    if absolute[:4] == 'http': # collect HTTP URLs\n",
    "                        self.links.append(absolute)\n",
    "                        \n",
    "    def getLinks(self):\n",
    "        'returns hyperlinks URLs in their absolute format'\n",
    "        return self.links\n",
    "\n",
    "\n",
    "def webdir(url,depth,indent):\n",
    "    if(depth<0):\n",
    "        return\n",
    "    print(\"\\t\"*indent +url)\n",
    "    resource = urlopen(url)\n",
    "    content = resource.read().decode()\n",
    "    collector = Collector(url)\n",
    "    collector.feed(content)\n",
    "    findUrlLst = collector.getLinks()\n",
    "    \n",
    "    for visiturl in findUrlLst:\n",
    "        webdir(visiturl,depth-1,indent+1)"
   ]
  },
  {
   "cell_type": "code",
   "execution_count": 50,
   "id": "f715fe8c",
   "metadata": {},
   "outputs": [
    {
     "name": "stdout",
     "output_type": "stream",
     "text": [
      "https://reed.cs.depaul.edu/lperkovic/test1.html\n",
      "\thttp://reed.cs.depaul.edu/lperkovic/test2.html\n",
      "\t\thttp://reed.cs.depaul.edu/lperkovic/test4.html\n",
      "\thttps://reed.cs.depaul.edu/lperkovic/test3.html\n",
      "\t\thttps://reed.cs.depaul.edu/lperkovic/test4.html\n"
     ]
    }
   ],
   "source": [
    "webdir(\"https://reed.cs.depaul.edu/lperkovic/test1.html\",2,0)"
   ]
  },
  {
   "cell_type": "markdown",
   "id": "d977795b",
   "metadata": {},
   "source": [
    "# Question - 8"
   ]
  },
  {
   "cell_type": "markdown",
   "id": "e7ae6e11",
   "metadata": {},
   "source": [
    "## Answer - 8\n",
    "\n",
    "###### Lets assume that the table name is weather\n",
    "a) All the temperature data. </br>\n",
    "\n",
    "\n",
    "\n",
    "=>SELECT Temperature From weather;\n",
    "    \n",
    "b) All the cities, but without repetition.</br>\n",
    "\n",
    "\n",
    "\n",
    "=>SELECT DISTINCT city FROM weather;  \n",
    "\n",
    "\n",
    "\n",
    "c) All the records for India.</br>\n",
    "\n",
    "\n",
    "\n",
    "=>SELECT * FROM weather WHERE Country = India ;\n",
    "\n",
    "\n",
    "\n",
    "d) All the Fall records.</br>\n",
    "\n",
    "\n",
    "\n",
    "=>SELECT * FROM weather WHERE Season = Fall ;\n",
    "\n",
    "\n",
    "\n",
    "e) The city, country, and season for which the average weatherfall is between 200\n",
    "and 400 millimeters.</br>\n",
    "\n",
    "\n",
    "\n",
    "=>SELECT city, country, season FROM weather WHERE weatherfall>200 and weatherfall<400;\n",
    "\n",
    "\n",
    "\n",
    "f) The city and country for which the average Fall temperature is above 20\n",
    "degrees, in increasing temperature order.</br>\n",
    "\n",
    "\n",
    "\n",
    "=>SELECT city, country FROM weather WHERE Temperature > 20 ORDER BY Temperature ASC;   \n",
    "\n",
    "\n",
    "\n",
    "g) The total annual weatherfall for Cairo.</br>\n",
    "\n",
    "\n",
    "\n",
    "=>SELECT SUM(weatherfall) FROM weather WHERE City = Cairo;\n",
    "\n",
    "\n",
    "\n",
    "h) The total weatherfall for each season.</br>\n",
    "\n",
    "\n",
    "\n",
    "=>SELECT SUM(weatherfall) FROM weather GROUP BY Season;"
   ]
  },
  {
   "cell_type": "markdown",
   "id": "52bc8864",
   "metadata": {},
   "source": [
    "# Question - 9"
   ]
  },
  {
   "cell_type": "code",
   "execution_count": 51,
   "id": "9daa744f",
   "metadata": {},
   "outputs": [],
   "source": [
    "#Answer:9\n",
    "words = ['The', 'quick', 'brown', 'fox', 'jumps', 'over', 'the', 'lazy', 'dog']"
   ]
  },
  {
   "cell_type": "code",
   "execution_count": 52,
   "id": "c3c94236",
   "metadata": {},
   "outputs": [
    {
     "name": "stdout",
     "output_type": "stream",
     "text": [
      "['THE', 'QUICK', 'BROWN', 'FOX', 'JUMPS', 'OVER', 'THE', 'LAZY', 'DOG']\n"
     ]
    }
   ],
   "source": [
    "#Answer:9(a)\n",
    "upperCaseWords = []\n",
    "\n",
    "for word in words:\n",
    "    upperCaseWords.append(word.upper())\n",
    "\n",
    "print(upperCaseWords)"
   ]
  },
  {
   "cell_type": "code",
   "execution_count": 53,
   "id": "7ebee24a",
   "metadata": {},
   "outputs": [
    {
     "name": "stdout",
     "output_type": "stream",
     "text": [
      "['the', 'quick', 'brown', 'fox', 'jumps', 'over', 'the', 'lazy', 'dog']\n"
     ]
    }
   ],
   "source": [
    "#Answer:9(b)\n",
    "lowerCaseWords = []\n",
    "\n",
    "for word in words:\n",
    "    lowerCaseWords.append(word.lower())\n",
    "\n",
    "print(lowerCaseWords)"
   ]
  },
  {
   "cell_type": "code",
   "execution_count": 54,
   "id": "69a85f24",
   "metadata": {},
   "outputs": [
    {
     "name": "stdout",
     "output_type": "stream",
     "text": [
      "[3, 5, 5, 3, 5, 4, 3, 4, 3]\n"
     ]
    }
   ],
   "source": [
    "#Answer:9(c)\n",
    "wordsWithLength = []\n",
    "\n",
    "for word in words:\n",
    "    wordsWithLength.append(len(word))\n",
    "\n",
    "print(wordsWithLength)"
   ]
  },
  {
   "cell_type": "code",
   "execution_count": 55,
   "id": "3ca19bde",
   "metadata": {},
   "outputs": [
    {
     "name": "stdout",
     "output_type": "stream",
     "text": [
      "[['THE', 'the', 3], ['QUICK', 'quick', 5], ['BROWN', 'brown', 5], ['FOX', 'fox', 3], ['JUMPS', 'jumps', 5], ['OVER', 'over', 4], ['THE', 'the', 3], ['LAZY', 'lazy', 4], ['DOG', 'dog', 3]]\n"
     ]
    }
   ],
   "source": [
    "#Answer:9(d)\n",
    "combineWords = []\n",
    "\n",
    "for word in words:\n",
    "    concatewd = [word.upper(),word.lower(),len(word)]\n",
    "    combineWords.append(concatewd) # adding whole list in list\n",
    "    \n",
    "\n",
    "print(combineWords)"
   ]
  },
  {
   "cell_type": "code",
   "execution_count": 56,
   "id": "1fa28e5c",
   "metadata": {},
   "outputs": [
    {
     "name": "stdout",
     "output_type": "stream",
     "text": [
      "['quick', 'brown', 'jumps', 'over', 'lazy']\n"
     ]
    }
   ],
   "source": [
    "#Answer:9(e)\n",
    "wordsWithlength_4 =[]\n",
    "for w,w1 in zip(combineWords,words):\n",
    "    if(w[2]>=4):\n",
    "        wordsWithlength_4.append(w1)\n",
    "print(wordsWithlength_4)"
   ]
  }
 ],
 "metadata": {
  "kernelspec": {
   "display_name": "Python 3 (ipykernel)",
   "language": "python",
   "name": "python3"
  },
  "language_info": {
   "codemirror_mode": {
    "name": "ipython",
    "version": 3
   },
   "file_extension": ".py",
   "mimetype": "text/x-python",
   "name": "python",
   "nbconvert_exporter": "python",
   "pygments_lexer": "ipython3",
   "version": "3.9.12"
  }
 },
 "nbformat": 4,
 "nbformat_minor": 5
}
